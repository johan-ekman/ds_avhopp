{
 "cells": [
  {
   "cell_type": "code",
   "execution_count": 1,
   "metadata": {},
   "outputs": [],
   "source": [
    "import pandas as pd\n",
    "from pandas import ExcelWriter"
   ]
  },
  {
   "cell_type": "code",
   "execution_count": 2,
   "metadata": {},
   "outputs": [],
   "source": [
    "import matplotlib.pyplot as plt\n",
    "import seaborn as sns"
   ]
  },
  {
   "cell_type": "code",
   "execution_count": 3,
   "metadata": {},
   "outputs": [],
   "source": [
    "import warnings"
   ]
  },
  {
   "cell_type": "code",
   "execution_count": 4,
   "metadata": {},
   "outputs": [],
   "source": [
    "warnings.filterwarnings('ignore')"
   ]
  },
  {
   "cell_type": "markdown",
   "metadata": {},
   "source": [
    "**Januari 2019**\n",
    "\n",
    "Detta är en datakörning till en trendartikel angående avhopp från kommunfullmäktige förra mandatperioden. Data är hämtat [från SCB](http://www.statistikdatabasen.scb.se/pxweb/sv/ssd/START__ME__ME0107__ME0107A/ME0107T28/?rxid=d626ce81-71c7-40e8-9b7b-03158ada94f5). Resultatet publicerades i nr 4 2019 och finns att [läsa på webben](https://www.dagenssamhalle.se/nyhet/var-femte-hoppade-av-kommunfullmaktige-25971)."
   ]
  },
  {
   "cell_type": "code",
   "execution_count": 5,
   "metadata": {},
   "outputs": [],
   "source": [
    "df = pd.read_csv('data/avhopp_totalt.csv',encoding='ISO-8859-1').dropna(axis=1)"
   ]
  },
  {
   "cell_type": "code",
   "execution_count": 6,
   "metadata": {},
   "outputs": [],
   "source": [
    "valda = pd.read_csv('data/alla_valda.csv',encoding='ISO-8859-1')"
   ]
  },
  {
   "cell_type": "code",
   "execution_count": 7,
   "metadata": {},
   "outputs": [],
   "source": [
    "valda['summa'] = valda.iloc[:,2:].sum(axis=1)"
   ]
  },
  {
   "cell_type": "code",
   "execution_count": 8,
   "metadata": {},
   "outputs": [
    {
     "data": {
      "text/html": [
       "<div>\n",
       "<style scoped>\n",
       "    .dataframe tbody tr th:only-of-type {\n",
       "        vertical-align: middle;\n",
       "    }\n",
       "\n",
       "    .dataframe tbody tr th {\n",
       "        vertical-align: top;\n",
       "    }\n",
       "\n",
       "    .dataframe thead th {\n",
       "        text-align: right;\n",
       "    }\n",
       "</style>\n",
       "<table border=\"1\" class=\"dataframe\">\n",
       "  <thead>\n",
       "    <tr style=\"text-align: right;\">\n",
       "      <th></th>\n",
       "      <th>region</th>\n",
       "      <th>valår</th>\n",
       "      <th>Moderaterna</th>\n",
       "      <th>Centerpartiet</th>\n",
       "      <th>Liberalerna</th>\n",
       "      <th>Kristdemokraterna</th>\n",
       "      <th>Miljöpartiet</th>\n",
       "      <th>Socialdemokraterna</th>\n",
       "      <th>Vänsterpartiet</th>\n",
       "      <th>Sverigedemokraterna</th>\n",
       "      <th>övriga partier</th>\n",
       "      <th>summa</th>\n",
       "    </tr>\n",
       "  </thead>\n",
       "  <tbody>\n",
       "    <tr>\n",
       "      <th>0</th>\n",
       "      <td>0114 Upplands Väsby</td>\n",
       "      <td>2002</td>\n",
       "      <td>11</td>\n",
       "      <td>2</td>\n",
       "      <td>8</td>\n",
       "      <td>3</td>\n",
       "      <td>2</td>\n",
       "      <td>20</td>\n",
       "      <td>4</td>\n",
       "      <td>0</td>\n",
       "      <td>1</td>\n",
       "      <td>51</td>\n",
       "    </tr>\n",
       "    <tr>\n",
       "      <th>1</th>\n",
       "      <td>0114 Upplands Väsby</td>\n",
       "      <td>2006</td>\n",
       "      <td>17</td>\n",
       "      <td>2</td>\n",
       "      <td>6</td>\n",
       "      <td>3</td>\n",
       "      <td>3</td>\n",
       "      <td>16</td>\n",
       "      <td>3</td>\n",
       "      <td>1</td>\n",
       "      <td>0</td>\n",
       "      <td>51</td>\n",
       "    </tr>\n",
       "    <tr>\n",
       "      <th>2</th>\n",
       "      <td>0114 Upplands Väsby</td>\n",
       "      <td>2010</td>\n",
       "      <td>17</td>\n",
       "      <td>2</td>\n",
       "      <td>6</td>\n",
       "      <td>2</td>\n",
       "      <td>5</td>\n",
       "      <td>15</td>\n",
       "      <td>2</td>\n",
       "      <td>2</td>\n",
       "      <td>0</td>\n",
       "      <td>51</td>\n",
       "    </tr>\n",
       "    <tr>\n",
       "      <th>3</th>\n",
       "      <td>0114 Upplands Väsby</td>\n",
       "      <td>2014</td>\n",
       "      <td>13</td>\n",
       "      <td>2</td>\n",
       "      <td>4</td>\n",
       "      <td>2</td>\n",
       "      <td>5</td>\n",
       "      <td>16</td>\n",
       "      <td>4</td>\n",
       "      <td>3</td>\n",
       "      <td>2</td>\n",
       "      <td>51</td>\n",
       "    </tr>\n",
       "    <tr>\n",
       "      <th>4</th>\n",
       "      <td>0115 Vallentuna</td>\n",
       "      <td>2002</td>\n",
       "      <td>11</td>\n",
       "      <td>4</td>\n",
       "      <td>6</td>\n",
       "      <td>4</td>\n",
       "      <td>2</td>\n",
       "      <td>13</td>\n",
       "      <td>0</td>\n",
       "      <td>0</td>\n",
       "      <td>1</td>\n",
       "      <td>41</td>\n",
       "    </tr>\n",
       "  </tbody>\n",
       "</table>\n",
       "</div>"
      ],
      "text/plain": [
       "                region  valår  Moderaterna  Centerpartiet  Liberalerna  \\\n",
       "0  0114 Upplands Väsby   2002           11              2            8   \n",
       "1  0114 Upplands Väsby   2006           17              2            6   \n",
       "2  0114 Upplands Väsby   2010           17              2            6   \n",
       "3  0114 Upplands Väsby   2014           13              2            4   \n",
       "4      0115 Vallentuna   2002           11              4            6   \n",
       "\n",
       "   Kristdemokraterna  Miljöpartiet  Socialdemokraterna  Vänsterpartiet  \\\n",
       "0                  3             2                  20               4   \n",
       "1                  3             3                  16               3   \n",
       "2                  2             5                  15               2   \n",
       "3                  2             5                  16               4   \n",
       "4                  4             2                  13               0   \n",
       "\n",
       "   Sverigedemokraterna  övriga partier  summa  \n",
       "0                    0               1     51  \n",
       "1                    1               0     51  \n",
       "2                    2               0     51  \n",
       "3                    3               2     51  \n",
       "4                    0               1     41  "
      ]
     },
     "execution_count": 8,
     "metadata": {},
     "output_type": "execute_result"
    }
   ],
   "source": [
    "valda.head()"
   ]
  },
  {
   "cell_type": "code",
   "execution_count": 9,
   "metadata": {},
   "outputs": [],
   "source": [
    "valda = valda[['region','valår','summa']]"
   ]
  },
  {
   "cell_type": "code",
   "execution_count": 10,
   "metadata": {},
   "outputs": [],
   "source": [
    "valda['valår'] = valda['valår'].astype('str').apply(lambda x: x + f\"-{int(x)+4}\")"
   ]
  },
  {
   "cell_type": "code",
   "execution_count": 11,
   "metadata": {},
   "outputs": [],
   "source": [
    "totalt = valda.pivot_table(index='region',columns='valår',values='summa').sum().reset_index().rename(columns={0:'summa'})"
   ]
  },
  {
   "cell_type": "code",
   "execution_count": 12,
   "metadata": {},
   "outputs": [],
   "source": [
    "totalt['region'] = \"00 Riket\""
   ]
  },
  {
   "cell_type": "code",
   "execution_count": 13,
   "metadata": {},
   "outputs": [],
   "source": [
    "valda = pd.concat([totalt[valda.columns.tolist()],valda])"
   ]
  },
  {
   "cell_type": "code",
   "execution_count": 14,
   "metadata": {},
   "outputs": [],
   "source": [
    "results = df.loc[(df['ålder']=='totalt 18+ år')&(df['kön']=='totalt')]"
   ]
  },
  {
   "cell_type": "code",
   "execution_count": 15,
   "metadata": {},
   "outputs": [],
   "source": [
    "results = results.rename(columns={'årsintervall':'valår'})"
   ]
  },
  {
   "cell_type": "code",
   "execution_count": 16,
   "metadata": {},
   "outputs": [],
   "source": [
    "res = results.merge(valda,on=['region','valår'],how='left').drop(['kön','ålder','status'],axis=1)"
   ]
  },
  {
   "cell_type": "code",
   "execution_count": 17,
   "metadata": {},
   "outputs": [],
   "source": [
    "tot = res.loc[res['region']=='00 Riket']"
   ]
  },
  {
   "cell_type": "code",
   "execution_count": 18,
   "metadata": {},
   "outputs": [],
   "source": [
    "writer = ExcelWriter('res/avhopp_resultat.xlsx')"
   ]
  },
  {
   "cell_type": "code",
   "execution_count": 19,
   "metadata": {},
   "outputs": [
    {
     "data": {
      "text/html": [
       "<div>\n",
       "<style scoped>\n",
       "    .dataframe tbody tr th:only-of-type {\n",
       "        vertical-align: middle;\n",
       "    }\n",
       "\n",
       "    .dataframe tbody tr th {\n",
       "        vertical-align: top;\n",
       "    }\n",
       "\n",
       "    .dataframe thead th {\n",
       "        text-align: right;\n",
       "    }\n",
       "</style>\n",
       "<table border=\"1\" class=\"dataframe\">\n",
       "  <thead>\n",
       "    <tr style=\"text-align: right;\">\n",
       "      <th></th>\n",
       "      <th>region</th>\n",
       "      <th>valår</th>\n",
       "      <th>Valda i kommunfullmäktigval</th>\n",
       "      <th>summa</th>\n",
       "    </tr>\n",
       "  </thead>\n",
       "  <tbody>\n",
       "    <tr>\n",
       "      <th>0</th>\n",
       "      <td>00 Riket</td>\n",
       "      <td>2002-2006</td>\n",
       "      <td>2162</td>\n",
       "      <td>13271</td>\n",
       "    </tr>\n",
       "    <tr>\n",
       "      <th>1</th>\n",
       "      <td>00 Riket</td>\n",
       "      <td>2006-2010</td>\n",
       "      <td>2185</td>\n",
       "      <td>13078</td>\n",
       "    </tr>\n",
       "    <tr>\n",
       "      <th>2</th>\n",
       "      <td>00 Riket</td>\n",
       "      <td>2010-2014</td>\n",
       "      <td>2516</td>\n",
       "      <td>12969</td>\n",
       "    </tr>\n",
       "    <tr>\n",
       "      <th>3</th>\n",
       "      <td>00 Riket</td>\n",
       "      <td>2014-2018</td>\n",
       "      <td>2830</td>\n",
       "      <td>12763</td>\n",
       "    </tr>\n",
       "  </tbody>\n",
       "</table>\n",
       "</div>"
      ],
      "text/plain": [
       "     region      valår  Valda i kommunfullmäktigval  summa\n",
       "0  00 Riket  2002-2006                         2162  13271\n",
       "1  00 Riket  2006-2010                         2185  13078\n",
       "2  00 Riket  2010-2014                         2516  12969\n",
       "3  00 Riket  2014-2018                         2830  12763"
      ]
     },
     "execution_count": 19,
     "metadata": {},
     "output_type": "execute_result"
    }
   ],
   "source": [
    "tot"
   ]
  },
  {
   "cell_type": "code",
   "execution_count": 20,
   "metadata": {},
   "outputs": [],
   "source": [
    "tot['andelar'] = ((tot['Valda i kommunfullmäktigval'] / tot['summa'])*100).round(1)"
   ]
  },
  {
   "cell_type": "code",
   "execution_count": 21,
   "metadata": {},
   "outputs": [],
   "source": [
    "tot.rename(columns={'Valda i kommunfullmäktigval':'Avhopp i fullmäktige'}).to_excel(writer,sheet_name='totalt_riket',index=False)"
   ]
  },
  {
   "cell_type": "code",
   "execution_count": 22,
   "metadata": {},
   "outputs": [],
   "source": [
    "res = res.loc[res['region']!='00 Riket']"
   ]
  },
  {
   "cell_type": "code",
   "execution_count": 23,
   "metadata": {},
   "outputs": [],
   "source": [
    "res['andelar'] = ((res['Valda i kommunfullmäktigval'] / res['summa'])*100).round(1)"
   ]
  },
  {
   "cell_type": "code",
   "execution_count": 24,
   "metadata": {},
   "outputs": [],
   "source": [
    "munis = res.loc[res['valår']=='2014-2018'].drop('valår',axis=1)"
   ]
  },
  {
   "cell_type": "code",
   "execution_count": 25,
   "metadata": {},
   "outputs": [],
   "source": [
    "munis.region = munis.region.apply(lambda x: x[4:].strip())"
   ]
  },
  {
   "cell_type": "code",
   "execution_count": 26,
   "metadata": {},
   "outputs": [],
   "source": [
    "munis.rename(columns={'Valda i kommunfullmäktigval':'Avhopp i fullmäktige'}).to_excel(writer,sheet_name='per_kommun_2014-2018',index=False)"
   ]
  },
  {
   "cell_type": "code",
   "execution_count": 27,
   "metadata": {},
   "outputs": [],
   "source": [
    "test = res.drop('andelar',axis=1).groupby('region').sum().reset_index()"
   ]
  },
  {
   "cell_type": "code",
   "execution_count": 28,
   "metadata": {},
   "outputs": [],
   "source": [
    "test['andelar'] = ((test['Valda i kommunfullmäktigval'] / test['summa'])*100).round(1)"
   ]
  },
  {
   "cell_type": "code",
   "execution_count": 29,
   "metadata": {},
   "outputs": [],
   "source": [
    "test.region = test.region.apply(lambda x: x[4:].strip())"
   ]
  },
  {
   "cell_type": "code",
   "execution_count": 30,
   "metadata": {},
   "outputs": [],
   "source": [
    "test.sort_values('andelar',ascending=False).rename(columns={'Valda i kommunfullmäktigval':'Avhopp i fullmäktige, 2002-2018',\n",
    "                                                            'summa':'Antal stolar, 2002-2018',\n",
    "                                                            'andelar':'Andelar avhopp, 2002-2018'}).to_excel(writer,sheet_name='totalt_02-18_per_kommun',index=False)"
   ]
  },
  {
   "cell_type": "code",
   "execution_count": null,
   "metadata": {},
   "outputs": [],
   "source": []
  },
  {
   "cell_type": "markdown",
   "metadata": {},
   "source": [
    "---"
   ]
  },
  {
   "cell_type": "markdown",
   "metadata": {},
   "source": [
    "**Nu slutligen per parti:**"
   ]
  },
  {
   "cell_type": "code",
   "execution_count": 31,
   "metadata": {},
   "outputs": [],
   "source": [
    "valda = pd.read_csv('data/alla_valda.csv',encoding='ISO-8859-1')"
   ]
  },
  {
   "cell_type": "code",
   "execution_count": 32,
   "metadata": {},
   "outputs": [],
   "source": [
    "df = pd.read_csv('data/avhopp_partierna.csv',encoding='ISO-8859-1').dropna(axis=1)"
   ]
  },
  {
   "cell_type": "code",
   "execution_count": 33,
   "metadata": {},
   "outputs": [],
   "source": [
    "res = df.loc[(df['region']=='00 Riket')&(df['kön']=='totalt')&(df['parti']!='totalt')]"
   ]
  },
  {
   "cell_type": "code",
   "execution_count": 34,
   "metadata": {},
   "outputs": [],
   "source": [
    "res = res.drop(['region','kön','status'],axis=1).reset_index(drop=True)"
   ]
  },
  {
   "cell_type": "code",
   "execution_count": 35,
   "metadata": {},
   "outputs": [],
   "source": [
    "valda = valda.melt(id_vars=['region','valår'],var_name='parti',value_name='valda')"
   ]
  },
  {
   "cell_type": "code",
   "execution_count": 36,
   "metadata": {},
   "outputs": [],
   "source": [
    "valda['valår'] = valda['valår'].astype('str').apply(lambda x: x + f\"-{int(x)+4}\")"
   ]
  },
  {
   "cell_type": "code",
   "execution_count": 37,
   "metadata": {},
   "outputs": [],
   "source": [
    "res = res.rename(columns={'årsintervall':'valår'})"
   ]
  },
  {
   "cell_type": "code",
   "execution_count": 38,
   "metadata": {},
   "outputs": [],
   "source": [
    "res = res.merge(valda.groupby(['parti','valår']).sum().reset_index(),on=['parti','valår'],how='left')"
   ]
  },
  {
   "cell_type": "code",
   "execution_count": 39,
   "metadata": {},
   "outputs": [],
   "source": [
    "res = res.rename(columns={'Valda i kommunfullmäktigval':'Avhopp i fullmäktige','valda':'Ledamöter totalt'})"
   ]
  },
  {
   "cell_type": "code",
   "execution_count": 40,
   "metadata": {},
   "outputs": [],
   "source": [
    "res['Andel avhopp'] = ((res['Avhopp i fullmäktige'] / res['Ledamöter totalt'])*100).round(1)"
   ]
  },
  {
   "cell_type": "code",
   "execution_count": 41,
   "metadata": {},
   "outputs": [],
   "source": [
    "res.pivot_table(index='parti',columns='valår',values='Andel avhopp').reset_index().to_excel(writer,sheet_name='per_parti',index=False)"
   ]
  },
  {
   "cell_type": "code",
   "execution_count": 42,
   "metadata": {},
   "outputs": [],
   "source": [
    "writer.save()"
   ]
  },
  {
   "cell_type": "code",
   "execution_count": 43,
   "metadata": {},
   "outputs": [
    {
     "data": {
      "text/html": [
       "<div>\n",
       "<style scoped>\n",
       "    .dataframe tbody tr th:only-of-type {\n",
       "        vertical-align: middle;\n",
       "    }\n",
       "\n",
       "    .dataframe tbody tr th {\n",
       "        vertical-align: top;\n",
       "    }\n",
       "\n",
       "    .dataframe thead th {\n",
       "        text-align: right;\n",
       "    }\n",
       "</style>\n",
       "<table border=\"1\" class=\"dataframe\">\n",
       "  <thead>\n",
       "    <tr style=\"text-align: right;\">\n",
       "      <th></th>\n",
       "      <th>parti</th>\n",
       "      <th>valår</th>\n",
       "      <th>Avhopp i fullmäktige</th>\n",
       "      <th>Ledamöter totalt</th>\n",
       "      <th>Andel avhopp</th>\n",
       "    </tr>\n",
       "  </thead>\n",
       "  <tbody>\n",
       "    <tr>\n",
       "      <th>0</th>\n",
       "      <td>Moderaterna</td>\n",
       "      <td>2002-2006</td>\n",
       "      <td>336</td>\n",
       "      <td>2059</td>\n",
       "      <td>16.3</td>\n",
       "    </tr>\n",
       "    <tr>\n",
       "      <th>1</th>\n",
       "      <td>Moderaterna</td>\n",
       "      <td>2006-2010</td>\n",
       "      <td>473</td>\n",
       "      <td>2735</td>\n",
       "      <td>17.3</td>\n",
       "    </tr>\n",
       "    <tr>\n",
       "      <th>2</th>\n",
       "      <td>Moderaterna</td>\n",
       "      <td>2010-2014</td>\n",
       "      <td>552</td>\n",
       "      <td>2965</td>\n",
       "      <td>18.6</td>\n",
       "    </tr>\n",
       "    <tr>\n",
       "      <th>3</th>\n",
       "      <td>Moderaterna</td>\n",
       "      <td>2014-2018</td>\n",
       "      <td>559</td>\n",
       "      <td>2433</td>\n",
       "      <td>23.0</td>\n",
       "    </tr>\n",
       "    <tr>\n",
       "      <th>4</th>\n",
       "      <td>Centerpartiet</td>\n",
       "      <td>2002-2006</td>\n",
       "      <td>188</td>\n",
       "      <td>1689</td>\n",
       "      <td>11.1</td>\n",
       "    </tr>\n",
       "  </tbody>\n",
       "</table>\n",
       "</div>"
      ],
      "text/plain": [
       "           parti      valår  Avhopp i fullmäktige  Ledamöter totalt  \\\n",
       "0    Moderaterna  2002-2006                   336              2059   \n",
       "1    Moderaterna  2006-2010                   473              2735   \n",
       "2    Moderaterna  2010-2014                   552              2965   \n",
       "3    Moderaterna  2014-2018                   559              2433   \n",
       "4  Centerpartiet  2002-2006                   188              1689   \n",
       "\n",
       "   Andel avhopp  \n",
       "0          16.3  \n",
       "1          17.3  \n",
       "2          18.6  \n",
       "3          23.0  \n",
       "4          11.1  "
      ]
     },
     "execution_count": 43,
     "metadata": {},
     "output_type": "execute_result"
    }
   ],
   "source": [
    "res.head()"
   ]
  },
  {
   "cell_type": "code",
   "execution_count": 44,
   "metadata": {},
   "outputs": [
    {
     "data": {
      "image/png": "[encoded data removed]",
      "text/plain": [
       "<Figure size 1080x432 with 9 Axes>"
      ]
     },
     "metadata": {
      "needs_background": "light"
     },
     "output_type": "display_data"
    }
   ],
   "source": [
    "g = sns.FacetGrid(res,col='parti',col_wrap=5)\n",
    "g.map(plt.plot,'valår','Andel avhopp')\n",
    "g.set_xticklabels(rotation=45)\n",
    "\n",
    "for a in g.axes:\n",
    "    a.grid(True, axis='y', alpha=0.5, color='grey')\n",
    "    \n",
    "plt.subplots_adjust(top=0.90)\n",
    "g.fig.suptitle('Avhopp i kommunfullmäktige, per parti ')\n",
    "\n",
    "plt.savefig('res/avhopp_per_parti.png')"
   ]
  },
  {
   "cell_type": "markdown",
   "metadata": {},
   "source": [
    "Johan önskade också avhopp efter parti och kommun:"
   ]
  },
  {
   "cell_type": "code",
   "execution_count": 50,
   "metadata": {},
   "outputs": [],
   "source": [
    "res = df.loc[(df['region']!='00 Riket')&(df['kön']=='totalt')&(df['årsintervall']=='2014-2018'),['region','parti','Valda i kommunfullmäktigval']]"
   ]
  },
  {
   "cell_type": "code",
   "execution_count": 55,
   "metadata": {},
   "outputs": [],
   "source": [
    "res = res.rename(columns={'Valda i kommunfullmäktigval':'Avhopp i fullmäktige'})\\\n",
    "    .pivot_table(index='region',columns='parti',values='Avhopp i fullmäktige').reset_index()"
   ]
  },
  {
   "cell_type": "code",
   "execution_count": 57,
   "metadata": {},
   "outputs": [],
   "source": [
    "res.region = res.region.apply(lambda x: x[4:].strip())"
   ]
  },
  {
   "cell_type": "code",
   "execution_count": 60,
   "metadata": {},
   "outputs": [],
   "source": [
    "res.to_excel(writer,sheet_name='kommun_efter_parti',index=False)"
   ]
  },
  {
   "cell_type": "code",
   "execution_count": 61,
   "metadata": {},
   "outputs": [],
   "source": [
    "writer.save()"
   ]
  },
  {
   "cell_type": "code",
   "execution_count": null,
   "metadata": {},
   "outputs": [],
   "source": []
  },
  {
   "cell_type": "code",
   "execution_count": null,
   "metadata": {},
   "outputs": [],
   "source": []
  },
  {
   "cell_type": "code",
   "execution_count": null,
   "metadata": {},
   "outputs": [],
   "source": []
  },
  {
   "cell_type": "code",
   "execution_count": null,
   "metadata": {},
   "outputs": [],
   "source": []
  }
 ],
 "metadata": {
  "kernelspec": {
   "display_name": "Python 3",
   "language": "python",
   "name": "python3"
  },
  "language_info": {
   "codemirror_mode": {
    "name": "ipython",
    "version": 3
   },
   "file_extension": ".py",
   "mimetype": "text/x-python",
   "name": "python",
   "nbconvert_exporter": "python",
   "pygments_lexer": "ipython3",
   "version": "3.6.2"
  }
 },
 "nbformat": 4,
 "nbformat_minor": 2
}
